{
 "cells": [
  {
   "cell_type": "code",
   "execution_count": 1,
   "id": "headed-astrology",
   "metadata": {},
   "outputs": [
    {
     "name": "stdout",
     "output_type": "stream",
     "text": [
      "hello\n"
     ]
    },
    {
     "name": "stderr",
     "output_type": "stream",
     "text": [
      "usage: __main__.py [-h] [--gpus GPUS] [--batch_size BATCH_SIZE] [--lr LR]\n",
      "                   [--b1 B1] [--b2 B2] [--latent_dim LATENT_DIM]\n",
      "                   [--tpu_b TPU_B] [--valid_size VALID_SIZE]\n",
      "                   [--save_path SAVE_PATH]\n",
      "__main__.py: error: unrecognized arguments: -f /home/ubuntu/.local/share/jupyter/runtime/kernel-94e677f6-7c14-4efb-9f37-c2e3ef2ded51.json\n"
     ]
    },
    {
     "ename": "SystemExit",
     "evalue": "2",
     "output_type": "error",
     "traceback": [
      "An exception has occurred, use %tb to see the full traceback.\n",
      "\u001b[0;31mSystemExit\u001b[0m\u001b[0;31m:\u001b[0m 2\n"
     ]
    },
    {
     "name": "stderr",
     "output_type": "stream",
     "text": [
      "/home/ubuntu/anaconda3/envs/pytorch_latest_p37/lib/python3.7/site-packages/IPython/core/interactiveshell.py:3435: UserWarning: To exit: use 'exit', 'quit', or Ctrl-D.\n",
      "  warn(\"To exit: use 'exit', 'quit', or Ctrl-D.\", stacklevel=1)\n"
     ]
    }
   ],
   "source": [
    "import dc_gan\n",
    "import torch \n",
    "from torch.utils.tensorboard import SummaryWriter\n",
    "import torchvision\n",
    "\n",
    "N = 10 \n",
    "writer = SummaryWriter('defense_logs/gan_generated_imgs/bs/v1')\n",
    "z = torch.randn(N,100,1,1)\n",
    "gen = dc_gan.generator1\n",
    "output = gen(z)\n",
    "# print(output)\n",
    "\n",
    "img_grid = torchvision.utils.make_grid(output)\n",
    "print(img_grid)\n",
    "writer.add_image('10_gan_generated_img', img_grid,1)\n",
    "\n"
   ]
  },
  {
   "cell_type": "code",
   "execution_count": 2,
   "id": "endangered-membrane",
   "metadata": {},
   "outputs": [
    {
     "name": "stdout",
     "output_type": "stream",
     "text": [
      "/bin/bash: module: line 1: syntax error: unexpected end of file\r\n",
      "/bin/bash: error importing function definition for `module'\r\n",
      "/bin/bash: switchml: line 1: syntax error: unexpected end of file\r\n",
      "/bin/bash: error importing function definition for `switchml'\r\n",
      "__pycache__  data\t defense.py\t      models.py\r\n",
      "adv\t     dataset.py  defense_logs\t      test_cnn.py\r\n",
      "checkpoints  dc_gan.py\t gan_generate_img.py  try.ipynb\r\n"
     ]
    }
   ],
   "source": [
    "!ls"
   ]
  },
  {
   "cell_type": "code",
   "execution_count": 3,
   "id": "micro-hostel",
   "metadata": {},
   "outputs": [
    {
     "name": "stdout",
     "output_type": "stream",
     "text": [
      "/bin/bash: module: line 1: syntax error: unexpected end of file\r\n",
      "/bin/bash: error importing function definition for `module'\r\n",
      "/bin/bash: switchml: line 1: syntax error: unexpected end of file\r\n",
      "/bin/bash: error importing function definition for `switchml'\r\n",
      "__pycache__  data\t defense.py\t      models.py\r\n",
      "adv\t     dataset.py  defense_logs\t      test_cnn.py\r\n",
      "checkpoints  dc_gan.py\t gan_generate_img.py  try.ipynb\r\n"
     ]
    }
   ],
   "source": [
    "!ls"
   ]
  },
  {
   "cell_type": "code",
   "execution_count": 32,
   "id": "dressed-findings",
   "metadata": {},
   "outputs": [
    {
     "name": "stdout",
     "output_type": "stream",
     "text": [
      "/bin/bash: module: line 1: syntax error: unexpected end of file\n",
      "/bin/bash: error importing function definition for `module'\n",
      "/bin/bash: switchml: line 1: syntax error: unexpected end of file\n",
      "/bin/bash: error importing function definition for `switchml'\n",
      "hello\n"
     ]
    }
   ],
   "source": [
    "!python gan_generate_img.py"
   ]
  },
  {
   "cell_type": "code",
   "execution_count": 43,
   "id": "ecological-declaration",
   "metadata": {},
   "outputs": [
    {
     "data": {
      "text/html": [
       "\n",
       "      <iframe id=\"tensorboard-frame-9e7fb960e66f1947\" width=\"100%\" height=\"800\" frameborder=\"0\">\n",
       "      </iframe>\n",
       "      <script>\n",
       "        (function() {\n",
       "          const frame = document.getElementById(\"tensorboard-frame-9e7fb960e66f1947\");\n",
       "          const url = new URL(\"/\", window.location);\n",
       "          const port = 6011;\n",
       "          if (port) {\n",
       "            url.port = port;\n",
       "          }\n",
       "          frame.src = url;\n",
       "        })();\n",
       "      </script>\n",
       "    "
      ],
      "text/plain": [
       "<IPython.core.display.HTML object>"
      ]
     },
     "metadata": {},
     "output_type": "display_data"
    }
   ],
   "source": [
    "%reload_ext tensorboard\n",
    "%tensorboard --logdir=defense_logs/sigma-variation/cowboy"
   ]
  },
  {
   "cell_type": "code",
   "execution_count": 24,
   "id": "clinical-rouge",
   "metadata": {},
   "outputs": [
    {
     "name": "stdout",
     "output_type": "stream",
     "text": [
      "/bin/bash: module: line 1: syntax error: unexpected end of file\n",
      "/bin/bash: error importing function definition for `module'\n",
      "/bin/bash: switchml: line 1: syntax error: unexpected end of file\n",
      "/bin/bash: error importing function definition for `switchml'\n",
      "hello\n",
      "torch.Size([10, 1, 28, 28])\n",
      "tensor([[[-1.0000, -1.0000, -1.0000, -1.0000, -1.0000, -1.0000, -1.0000,\n",
      "          -1.0000, -1.0000, -1.0000, -1.0000, -1.0000, -1.0000, -1.0000,\n",
      "          -1.0000, -1.0000, -1.0000, -1.0000, -1.0000, -1.0000, -1.0000,\n",
      "          -1.0000, -1.0000, -1.0000, -1.0000, -1.0000, -1.0000, -1.0000],\n",
      "         [-1.0000, -1.0000, -1.0000, -1.0000, -1.0000, -1.0000, -1.0000,\n",
      "          -1.0000, -1.0000, -1.0000, -1.0000, -1.0000, -1.0000, -1.0000,\n",
      "          -1.0000, -1.0000, -1.0000, -1.0000, -1.0000, -1.0000, -1.0000,\n",
      "          -1.0000, -1.0000, -1.0000, -1.0000, -1.0000, -1.0000, -1.0000],\n",
      "         [-1.0000, -1.0000, -1.0000, -1.0000, -1.0000, -1.0000, -1.0000,\n",
      "          -1.0000, -1.0000, -1.0000, -1.0000, -1.0000, -1.0000, -1.0000,\n",
      "          -1.0000, -1.0000, -1.0000, -1.0000, -1.0000, -1.0000, -1.0000,\n",
      "          -1.0000, -1.0000, -1.0000, -1.0000, -1.0000, -1.0000, -1.0000],\n",
      "         [-1.0000, -1.0000, -1.0000, -1.0000, -1.0000, -1.0000, -1.0000,\n",
      "          -1.0000, -1.0000, -1.0000, -1.0000, -1.0000, -1.0000, -1.0000,\n",
      "          -1.0000, -1.0000, -1.0000, -1.0000, -1.0000, -1.0000, -1.0000,\n",
      "          -1.0000, -1.0000, -1.0000, -1.0000, -1.0000, -1.0000, -1.0000],\n",
      "         [-1.0000, -1.0000, -1.0000, -1.0000, -1.0000, -1.0000, -1.0000,\n",
      "          -1.0000, -1.0000, -1.0000, -1.0000, -1.0000, -1.0000, -1.0000,\n",
      "          -1.0000, -1.0000, -1.0000, -1.0000, -1.0000, -1.0000, -1.0000,\n",
      "          -1.0000, -1.0000, -1.0000, -1.0000, -1.0000, -1.0000, -1.0000],\n",
      "         [-1.0000, -1.0000, -1.0000, -1.0000, -1.0000, -1.0000, -1.0000,\n",
      "          -1.0000, -1.0000, -1.0000, -1.0000, -1.0000, -1.0000, -1.0000,\n",
      "          -1.0000, -1.0000, -1.0000, -1.0000, -1.0000, -1.0000, -1.0000,\n",
      "          -1.0000, -1.0000, -1.0000, -1.0000, -1.0000, -1.0000, -1.0000],\n",
      "         [-1.0000, -1.0000, -1.0000, -1.0000, -1.0000, -1.0000, -1.0000,\n",
      "          -1.0000, -1.0000, -1.0000, -1.0000, -0.9748, -0.3769,  0.5324,\n",
      "           0.0522, -0.8936, -0.6430,  0.8567,  0.9042, -0.2968, -0.9988,\n",
      "          -1.0000, -1.0000, -1.0000, -1.0000, -1.0000, -1.0000, -1.0000],\n",
      "         [-1.0000, -1.0000, -1.0000, -1.0000, -1.0000, -1.0000, -1.0000,\n",
      "          -1.0000, -1.0000, -1.0000, -0.9980, -0.4931,  0.9109,  0.9835,\n",
      "           0.9081, -0.7873, -0.0509,  0.9331,  0.9941,  0.4882, -0.9341,\n",
      "          -1.0000, -1.0000, -1.0000, -1.0000, -1.0000, -1.0000, -1.0000],\n",
      "         [-1.0000, -1.0000, -1.0000, -1.0000, -1.0000, -1.0000, -1.0000,\n",
      "          -1.0000, -1.0000, -0.9998, -0.7790,  0.8267,  0.9987,  0.9786,\n",
      "           0.5731, -0.7859, -0.7672,  0.3414,  0.9911,  0.8454, -0.6552,\n",
      "          -1.0000, -1.0000, -1.0000, -1.0000, -1.0000, -1.0000, -1.0000],\n",
      "         [-1.0000, -1.0000, -1.0000, -1.0000, -1.0000, -1.0000, -1.0000,\n",
      "          -1.0000, -1.0000, -0.9956,  0.1709,  0.9499,  0.9971,  0.8538,\n",
      "          -0.3981, -0.9357, -0.9898, -0.6496,  0.9738,  0.9821, -0.1262,\n",
      "          -0.9981, -1.0000, -1.0000, -1.0000, -1.0000, -1.0000, -1.0000],\n",
      "         [-1.0000, -1.0000, -1.0000, -1.0000, -1.0000, -1.0000, -1.0000,\n",
      "          -1.0000, -1.0000, -0.9215,  0.6740,  0.9926,  0.9896,  0.3920,\n",
      "          -0.9138, -0.9935, -0.9888, -0.5218,  0.9569,  0.9785,  0.1096,\n",
      "          -0.9961, -1.0000, -1.0000, -1.0000, -1.0000, -1.0000, -1.0000],\n",
      "         [-1.0000, -1.0000, -1.0000, -1.0000, -1.0000, -1.0000, -1.0000,\n",
      "          -1.0000, -0.9999, -0.6346,  0.8784,  0.9966,  0.8059, -0.5234,\n",
      "          -0.9940, -0.9971, -0.9158,  0.6080,  0.9917,  0.9678, -0.5138,\n",
      "          -0.9999, -1.0000, -1.0000, -1.0000, -1.0000, -1.0000, -1.0000],\n",
      "         [-1.0000, -1.0000, -1.0000, -1.0000, -1.0000, -1.0000, -1.0000,\n",
      "          -1.0000, -0.9996, -0.2912,  0.9821,  0.9777,  0.0463, -0.9865,\n",
      "          -0.9998, -0.9978, -0.8129,  0.8086,  0.9980,  0.9622, -0.6698,\n",
      "          -1.0000, -1.0000, -1.0000, -1.0000, -1.0000, -1.0000, -1.0000],\n",
      "         [-1.0000, -1.0000, -1.0000, -1.0000, -1.0000, -1.0000, -1.0000,\n",
      "          -1.0000, -0.9965, -0.0730,  0.9934,  0.9068, -0.8927, -0.9998,\n",
      "          -1.0000, -0.9963, -0.5337,  0.9427,  0.9995,  0.9506, -0.8803,\n",
      "          -1.0000, -1.0000, -1.0000, -1.0000, -1.0000, -1.0000, -1.0000],\n",
      "         [-1.0000, -1.0000, -1.0000, -1.0000, -1.0000, -1.0000, -1.0000,\n",
      "          -1.0000, -0.9533,  0.2763,  0.9881,  0.4051, -0.9724, -0.9999,\n",
      "          -0.9998, -0.9769,  0.3487,  0.9957,  0.9988,  0.6747, -0.9674,\n",
      "          -1.0000, -1.0000, -1.0000, -1.0000, -1.0000, -1.0000, -1.0000],\n",
      "         [-1.0000, -1.0000, -1.0000, -1.0000, -1.0000, -1.0000, -1.0000,\n",
      "          -1.0000, -0.9523,  0.4978,  0.9640, -0.7366, -0.9894, -0.9909,\n",
      "          -0.8396,  0.0925,  0.9482,  0.9996,  0.9976, -0.2226, -0.9975,\n",
      "          -1.0000, -1.0000, -1.0000, -1.0000, -1.0000, -1.0000, -1.0000],\n",
      "         [-1.0000, -1.0000, -1.0000, -1.0000, -1.0000, -1.0000, -1.0000,\n",
      "          -1.0000, -0.9829,  0.4737,  0.9763, -0.1598, -0.8820, -0.5465,\n",
      "           0.7118,  0.9466,  0.9856,  0.9985,  0.9919, -0.4596, -0.9999,\n",
      "          -1.0000, -1.0000, -1.0000, -1.0000, -1.0000, -1.0000, -1.0000],\n",
      "         [-1.0000, -1.0000, -1.0000, -1.0000, -1.0000, -1.0000, -1.0000,\n",
      "          -1.0000, -0.9956,  0.2304,  0.9875,  0.7678,  0.6112,  0.9061,\n",
      "           0.9457,  0.9939,  0.9909,  0.9721,  0.8752, -0.6458, -1.0000,\n",
      "          -1.0000, -1.0000, -1.0000, -1.0000, -1.0000, -1.0000, -1.0000],\n",
      "         [-1.0000, -1.0000, -1.0000, -1.0000, -1.0000, -1.0000, -1.0000,\n",
      "          -1.0000, -0.9991, -0.7453,  0.8602,  0.9035,  0.9672,  0.9642,\n",
      "           0.8770,  0.9092,  0.9484,  0.7944,  0.0169, -0.9220, -1.0000,\n",
      "          -1.0000, -1.0000, -1.0000, -1.0000, -1.0000, -1.0000, -1.0000],\n",
      "         [-0.9999, -1.0000, -1.0000, -1.0000, -1.0000, -1.0000, -1.0000,\n",
      "          -1.0000, -1.0000, -0.9982, -0.8867, -0.7834, -0.8315, -0.8553,\n",
      "          -0.1125,  0.9025,  0.9674,  0.4792, -0.9054, -0.9995, -1.0000,\n",
      "          -1.0000, -1.0000, -1.0000, -1.0000, -1.0000, -1.0000, -1.0000],\n",
      "         [-0.9895, -1.0000, -1.0000, -1.0000, -1.0000, -1.0000, -1.0000,\n",
      "          -1.0000, -1.0000, -1.0000, -1.0000, -1.0000, -1.0000, -0.9993,\n",
      "          -0.5678,  0.9876,  0.9336, -0.6838, -0.9984, -1.0000, -1.0000,\n",
      "          -1.0000, -1.0000, -1.0000, -1.0000, -1.0000, -1.0000, -1.0000],\n",
      "         [-0.9872, -1.0000, -1.0000, -1.0000, -1.0000, -1.0000, -1.0000,\n",
      "          -1.0000, -1.0000, -1.0000, -1.0000, -1.0000, -1.0000, -0.9484,\n",
      "           0.8819,  0.9978,  0.5196, -0.9868, -1.0000, -1.0000, -1.0000,\n",
      "          -1.0000, -1.0000, -1.0000, -1.0000, -1.0000, -1.0000, -1.0000],\n",
      "         [-0.9791, -1.0000, -1.0000, -1.0000, -1.0000, -1.0000, -1.0000,\n",
      "          -1.0000, -1.0000, -1.0000, -1.0000, -1.0000, -1.0000, -0.8241,\n",
      "           0.9814,  0.9822, -0.5836, -0.9999, -1.0000, -1.0000, -1.0000,\n",
      "          -1.0000, -1.0000, -1.0000, -1.0000, -1.0000, -1.0000, -1.0000],\n",
      "         [-0.9843, -0.9999, -1.0000, -1.0000, -1.0000, -1.0000, -1.0000,\n",
      "          -1.0000, -1.0000, -1.0000, -1.0000, -1.0000, -1.0000,  0.0176,\n",
      "           0.9976,  0.8039, -0.9217, -1.0000, -1.0000, -1.0000, -1.0000,\n",
      "          -1.0000, -1.0000, -1.0000, -1.0000, -1.0000, -1.0000, -1.0000],\n",
      "         [-0.9962, -0.9998, -1.0000, -1.0000, -1.0000, -1.0000, -1.0000,\n",
      "          -1.0000, -1.0000, -1.0000, -1.0000, -1.0000, -1.0000,  0.4069,\n",
      "           0.9922, -0.2096, -0.9838, -1.0000, -1.0000, -1.0000, -1.0000,\n",
      "          -1.0000, -1.0000, -1.0000, -1.0000, -1.0000, -1.0000, -1.0000],\n",
      "         [-0.9932, -0.9991, -0.9999, -1.0000, -1.0000, -1.0000, -1.0000,\n",
      "          -1.0000, -1.0000, -1.0000, -1.0000, -1.0000, -0.9997,  0.3402,\n",
      "           0.9140, -0.7980, -0.9959, -1.0000, -1.0000, -1.0000, -1.0000,\n",
      "          -1.0000, -1.0000, -1.0000, -1.0000, -1.0000, -1.0000, -1.0000],\n",
      "         [-0.9950, -0.9993, -0.9998, -1.0000, -1.0000, -1.0000, -1.0000,\n",
      "          -1.0000, -1.0000, -1.0000, -1.0000, -1.0000, -1.0000, -0.9994,\n",
      "          -0.9705, -0.9993, -1.0000, -1.0000, -1.0000, -1.0000, -1.0000,\n",
      "          -1.0000, -1.0000, -1.0000, -1.0000, -1.0000, -1.0000, -1.0000],\n",
      "         [-0.9998, -0.9999, -0.9998, -0.9988, -0.9987, -0.9999, -1.0000,\n",
      "          -1.0000, -1.0000, -1.0000, -1.0000, -1.0000, -1.0000, -1.0000,\n",
      "          -1.0000, -1.0000, -1.0000, -1.0000, -1.0000, -1.0000, -1.0000,\n",
      "          -1.0000, -1.0000, -1.0000, -1.0000, -1.0000, -1.0000, -1.0000]]],\n",
      "       grad_fn=<SelectBackward>)\n",
      "<PIL.Image.Image image mode=L size=28x28 at 0x7F5BC6EEEB10>\n"
     ]
    }
   ],
   "source": [
    "!python gan_generate_img.py"
   ]
  },
  {
   "cell_type": "code",
   "execution_count": 27,
   "id": "provincial-tower",
   "metadata": {},
   "outputs": [
    {
     "name": "stdout",
     "output_type": "stream",
     "text": [
      "/bin/bash: module: line 1: syntax error: unexpected end of file\n",
      "/bin/bash: error importing function definition for `module'\n",
      "/bin/bash: switchml: line 1: syntax error: unexpected end of file\n",
      "/bin/bash: error importing function definition for `switchml'\n",
      "(28, 28)\n",
      "<PIL.Image.Image image mode=L size=28x28 at 0x7F23EAE71850>\n"
     ]
    }
   ],
   "source": [
    "!python gan_generate_img.py"
   ]
  },
  {
   "cell_type": "code",
   "execution_count": 28,
   "id": "alien-fluid",
   "metadata": {},
   "outputs": [
    {
     "name": "stdout",
     "output_type": "stream",
     "text": [
      "hello\n"
     ]
    },
    {
     "name": "stderr",
     "output_type": "stream",
     "text": [
      "usage: __main__.py [-h] [--gpus GPUS] [--batch_size BATCH_SIZE] [--lr LR]\n",
      "                   [--b1 B1] [--b2 B2] [--latent_dim LATENT_DIM]\n",
      "                   [--tpu_b TPU_B] [--valid_size VALID_SIZE]\n",
      "                   [--save_path SAVE_PATH]\n",
      "__main__.py: error: unrecognized arguments: -f /home/ubuntu/.local/share/jupyter/runtime/kernel-94e677f6-7c14-4efb-9f37-c2e3ef2ded51.json\n"
     ]
    },
    {
     "ename": "SystemExit",
     "evalue": "2",
     "output_type": "error",
     "traceback": [
      "An exception has occurred, use %tb to see the full traceback.\n",
      "\u001b[0;31mSystemExit\u001b[0m\u001b[0;31m:\u001b[0m 2\n"
     ]
    }
   ],
   "source": [
    "import dc_gan\n",
    "import torch \n",
    "from torch.utils.tensorboard import SummaryWriter\n",
    "import torchvision\n",
    "import matplotlib.pyplot as plt\n",
    "from PIL import Image \n",
    "\n",
    "N = 10 \n",
    "# writer = SummaryWriter('defense_logs/gan_generated_imgs/bs/v2')\n",
    "z = torch.randn(N,100,1,1)\n",
    "gen = dc_gan.generator1\n",
    "output = gen(z)\n",
    "print(output.shape)\n",
    "# print(output)\n",
    "\n",
    "# img_grid = torchvision.utils.make_grid(output[0],nrow=5)\n",
    "print(output[0])\n",
    "a = output[0].squeeze().detach().numpy()\n",
    "# print(a.shape)\n",
    "# plt.imshow(a)\n",
    "# plt.show()\n",
    "image = Image.fromarray(a)\n",
    "image.show()\n",
    "\n",
    "# print(img_grid)\n",
    "# writer.add_images('10_gan_generated_img', output,1,dataformats = \"NCHW\")\n"
   ]
  },
  {
   "cell_type": "code",
   "execution_count": 1,
   "id": "juvenile-central",
   "metadata": {},
   "outputs": [],
   "source": [
    "import optuna "
   ]
  },
  {
   "cell_type": "code",
   "execution_count": 8,
   "id": "active-truck",
   "metadata": {},
   "outputs": [
    {
     "name": "stderr",
     "output_type": "stream",
     "text": [
      "\u001b[32m[I 2021-07-12 17:52:41,018]\u001b[0m A new study created in memory with name: no-name-6c9b18a1-faf3-4bcc-be95-b691bbd21e77\u001b[0m\n",
      "\u001b[32m[I 2021-07-12 17:52:41,020]\u001b[0m Trial 0 finished with value: 1.657535314493138 and parameters: {'a': 0.1657535314493138}. Best is trial 0 with value: 1.657535314493138.\u001b[0m\n",
      "\u001b[32m[I 2021-07-12 17:52:41,022]\u001b[0m Trial 1 finished with value: 0.09985916213632318 and parameters: {'a': 0.009985916213632318}. Best is trial 0 with value: 1.657535314493138.\u001b[0m\n",
      "\u001b[32m[I 2021-07-12 17:52:41,023]\u001b[0m Trial 2 finished with value: 1.2267244068531276 and parameters: {'a': 0.12267244068531274}. Best is trial 0 with value: 1.657535314493138.\u001b[0m\n",
      "\u001b[32m[I 2021-07-12 17:52:41,024]\u001b[0m Trial 3 finished with value: 11.192172624799015 and parameters: {'a': 1.1192172624799015}. Best is trial 3 with value: 11.192172624799015.\u001b[0m\n",
      "\u001b[32m[I 2021-07-12 17:52:41,025]\u001b[0m Trial 4 finished with value: 0.017892784541540342 and parameters: {'a': 0.0017892784541540343}. Best is trial 3 with value: 11.192172624799015.\u001b[0m\n",
      "\u001b[32m[I 2021-07-12 17:52:41,026]\u001b[0m Trial 5 finished with value: 5.9222260941409495 and parameters: {'a': 0.592222609414095}. Best is trial 3 with value: 11.192172624799015.\u001b[0m\n",
      "\u001b[32m[I 2021-07-12 17:52:41,028]\u001b[0m Trial 6 finished with value: 14.519437645728244 and parameters: {'a': 1.4519437645728244}. Best is trial 6 with value: 14.519437645728244.\u001b[0m\n",
      "\u001b[32m[I 2021-07-12 17:52:41,029]\u001b[0m Trial 7 finished with value: 8.184212426325924 and parameters: {'a': 0.8184212426325924}. Best is trial 6 with value: 14.519437645728244.\u001b[0m\n",
      "\u001b[32m[I 2021-07-12 17:52:41,031]\u001b[0m Trial 8 finished with value: 0.1968051632512324 and parameters: {'a': 0.01968051632512324}. Best is trial 6 with value: 14.519437645728244.\u001b[0m\n",
      "\u001b[32m[I 2021-07-12 17:52:41,032]\u001b[0m Trial 9 finished with value: 2.0739191436900626 and parameters: {'a': 0.20739191436900628}. Best is trial 6 with value: 14.519437645728244.\u001b[0m\n",
      "\u001b[32m[I 2021-07-12 17:52:41,036]\u001b[0m Trial 10 finished with value: 34.2340599719513 and parameters: {'a': 3.4234059971951294}. Best is trial 10 with value: 34.2340599719513.\u001b[0m\n",
      "\u001b[32m[I 2021-07-12 17:52:41,040]\u001b[0m Trial 11 finished with value: 43.57670468587148 and parameters: {'a': 4.357670468587148}. Best is trial 11 with value: 43.57670468587148.\u001b[0m\n",
      "\u001b[32m[I 2021-07-12 17:52:41,044]\u001b[0m Trial 12 finished with value: 29.10766855442737 and parameters: {'a': 2.910766855442737}. Best is trial 11 with value: 43.57670468587148.\u001b[0m\n",
      "\u001b[32m[I 2021-07-12 17:52:41,047]\u001b[0m Trial 13 finished with value: 45.057241963130146 and parameters: {'a': 4.505724196313015}. Best is trial 13 with value: 45.057241963130146.\u001b[0m\n",
      "\u001b[32m[I 2021-07-12 17:52:41,051]\u001b[0m Trial 14 finished with value: 39.775213932116664 and parameters: {'a': 3.977521393211666}. Best is trial 13 with value: 45.057241963130146.\u001b[0m\n",
      "\u001b[32m[I 2021-07-12 17:52:41,055]\u001b[0m Trial 15 finished with value: 46.2515234048832 and parameters: {'a': 4.62515234048832}. Best is trial 15 with value: 46.2515234048832.\u001b[0m\n",
      "\u001b[32m[I 2021-07-12 17:52:41,058]\u001b[0m Trial 16 finished with value: 0.2786067966780894 and parameters: {'a': 0.02786067966780894}. Best is trial 15 with value: 46.2515234048832.\u001b[0m\n",
      "\u001b[32m[I 2021-07-12 17:52:41,062]\u001b[0m Trial 17 finished with value: 0.014339970904977128 and parameters: {'a': 0.0014339970904977128}. Best is trial 15 with value: 46.2515234048832.\u001b[0m\n",
      "\u001b[32m[I 2021-07-12 17:52:41,065]\u001b[0m Trial 18 finished with value: 4.024216985578962 and parameters: {'a': 0.4024216985578961}. Best is trial 15 with value: 46.2515234048832.\u001b[0m\n",
      "\u001b[32m[I 2021-07-12 17:52:41,069]\u001b[0m Trial 19 finished with value: 17.06698742475049 and parameters: {'a': 1.706698742475049}. Best is trial 15 with value: 46.2515234048832.\u001b[0m\n",
      "\u001b[32m[I 2021-07-12 17:52:41,073]\u001b[0m Trial 20 finished with value: 0.04339440225453531 and parameters: {'a': 0.004339440225453531}. Best is trial 15 with value: 46.2515234048832.\u001b[0m\n",
      "\u001b[32m[I 2021-07-12 17:52:41,078]\u001b[0m Trial 21 finished with value: 46.17130990975045 and parameters: {'a': 4.617130990975045}. Best is trial 15 with value: 46.2515234048832.\u001b[0m\n",
      "\u001b[32m[I 2021-07-12 17:52:41,081]\u001b[0m Trial 22 finished with value: 46.50558963108945 and parameters: {'a': 4.650558963108945}. Best is trial 22 with value: 46.50558963108945.\u001b[0m\n",
      "\u001b[32m[I 2021-07-12 17:52:41,085]\u001b[0m Trial 23 finished with value: 19.615937684431866 and parameters: {'a': 1.9615937684431868}. Best is trial 22 with value: 46.50558963108945.\u001b[0m\n",
      "\u001b[32m[I 2021-07-12 17:52:41,089]\u001b[0m Trial 24 finished with value: 3.1847121242716754 and parameters: {'a': 0.3184712124271675}. Best is trial 22 with value: 46.50558963108945.\u001b[0m\n",
      "\u001b[32m[I 2021-07-12 17:52:41,093]\u001b[0m Trial 25 finished with value: 0.6343017403869272 and parameters: {'a': 0.06343017403869272}. Best is trial 22 with value: 46.50558963108945.\u001b[0m\n",
      "\u001b[32m[I 2021-07-12 17:52:41,096]\u001b[0m Trial 26 finished with value: 47.651630337216986 and parameters: {'a': 4.765163033721699}. Best is trial 26 with value: 47.651630337216986.\u001b[0m\n",
      "\u001b[32m[I 2021-07-12 17:52:41,101]\u001b[0m Trial 27 finished with value: 22.6814788667723 and parameters: {'a': 2.2681478866772298}. Best is trial 26 with value: 47.651630337216986.\u001b[0m\n",
      "\u001b[32m[I 2021-07-12 17:52:41,105]\u001b[0m Trial 28 finished with value: 6.555625178334306 and parameters: {'a': 0.6555625178334306}. Best is trial 26 with value: 47.651630337216986.\u001b[0m\n",
      "\u001b[32m[I 2021-07-12 17:52:41,108]\u001b[0m Trial 29 finished with value: 11.515209898106542 and parameters: {'a': 1.1515209898106542}. Best is trial 26 with value: 47.651630337216986.\u001b[0m\n",
      "\u001b[32m[I 2021-07-12 17:52:41,112]\u001b[0m Trial 30 finished with value: 27.566878874245646 and parameters: {'a': 2.7566878874245644}. Best is trial 26 with value: 47.651630337216986.\u001b[0m\n",
      "\u001b[32m[I 2021-07-12 17:52:41,115]\u001b[0m Trial 31 finished with value: 41.044073689726304 and parameters: {'a': 4.10440736897263}. Best is trial 26 with value: 47.651630337216986.\u001b[0m\n",
      "\u001b[32m[I 2021-07-12 17:52:41,120]\u001b[0m Trial 32 finished with value: 47.020737352771185 and parameters: {'a': 4.702073735277119}. Best is trial 26 with value: 47.651630337216986.\u001b[0m\n",
      "\u001b[32m[I 2021-07-12 17:52:41,124]\u001b[0m Trial 33 finished with value: 47.4653771511088 and parameters: {'a': 4.74653771511088}. Best is trial 26 with value: 47.651630337216986.\u001b[0m\n",
      "\u001b[32m[I 2021-07-12 17:52:41,127]\u001b[0m Trial 34 finished with value: 15.330376332395424 and parameters: {'a': 1.5330376332395423}. Best is trial 26 with value: 47.651630337216986.\u001b[0m\n",
      "\u001b[32m[I 2021-07-12 17:52:41,132]\u001b[0m Trial 35 finished with value: 23.54649748633992 and parameters: {'a': 2.354649748633992}. Best is trial 26 with value: 47.651630337216986.\u001b[0m\n",
      "\u001b[32m[I 2021-07-12 17:52:41,136]\u001b[0m Trial 36 finished with value: 9.073480770801273 and parameters: {'a': 0.9073480770801273}. Best is trial 26 with value: 47.651630337216986.\u001b[0m\n",
      "\u001b[32m[I 2021-07-12 17:52:41,140]\u001b[0m Trial 37 finished with value: 1.1537084395480188 and parameters: {'a': 0.11537084395480188}. Best is trial 26 with value: 47.651630337216986.\u001b[0m\n",
      "\u001b[32m[I 2021-07-12 17:52:41,144]\u001b[0m Trial 38 finished with value: 3.9063512519245025 and parameters: {'a': 0.39063512519245025}. Best is trial 26 with value: 47.651630337216986.\u001b[0m\n",
      "\u001b[32m[I 2021-07-12 17:52:41,147]\u001b[0m Trial 39 finished with value: 11.71744849810322 and parameters: {'a': 1.171744849810322}. Best is trial 26 with value: 47.651630337216986.\u001b[0m\n"
     ]
    },
    {
     "name": "stdout",
     "output_type": "stream",
     "text": [
      "0.1657535314493138\n",
      "0.009985916213632318\n",
      "0.12267244068531274\n",
      "1.1192172624799015\n",
      "0.0017892784541540343\n",
      "0.592222609414095\n",
      "1.4519437645728244\n",
      "0.8184212426325924\n",
      "0.01968051632512324\n",
      "0.20739191436900628\n",
      "3.4234059971951294\n",
      "4.357670468587148\n",
      "2.910766855442737\n",
      "4.505724196313015\n",
      "3.977521393211666\n",
      "4.62515234048832\n",
      "0.02786067966780894\n",
      "0.0014339970904977128\n",
      "0.4024216985578961\n",
      "1.706698742475049\n",
      "0.004339440225453531\n",
      "4.617130990975045\n",
      "4.650558963108945\n",
      "1.9615937684431868\n",
      "0.3184712124271675\n",
      "0.06343017403869272\n",
      "4.765163033721699\n",
      "2.2681478866772298\n",
      "0.6555625178334306\n",
      "1.1515209898106542\n",
      "2.7566878874245644\n",
      "4.10440736897263\n",
      "4.702073735277119\n",
      "4.74653771511088\n",
      "1.5330376332395423\n",
      "2.354649748633992\n",
      "0.9073480770801273\n",
      "0.11537084395480188\n",
      "0.39063512519245025\n",
      "1.171744849810322\n"
     ]
    }
   ],
   "source": [
    "def objective(trial):\n",
    "    a = trial.suggest_float(\"a\",1e-3,5,log = True)\n",
    "    print(a)\n",
    "    accuracy = a*10\n",
    "    return accuracy\n",
    "    \n",
    "\n",
    "study = optuna.create_study(direction=\"maximize\")\n",
    "study.optimize(objective, n_trials=40)"
   ]
  },
  {
   "cell_type": "code",
   "execution_count": null,
   "id": "dependent-costume",
   "metadata": {},
   "outputs": [],
   "source": []
  }
 ],
 "metadata": {
  "kernelspec": {
   "display_name": "Environment (conda_pytorch_latest_p37)",
   "language": "python",
   "name": "conda_pytorch_latest_p37"
  },
  "language_info": {
   "codemirror_mode": {
    "name": "ipython",
    "version": 3
   },
   "file_extension": ".py",
   "mimetype": "text/x-python",
   "name": "python",
   "nbconvert_exporter": "python",
   "pygments_lexer": "ipython3",
   "version": "3.7.10"
  }
 },
 "nbformat": 4,
 "nbformat_minor": 5
}
